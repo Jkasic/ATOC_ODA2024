{
 "cells": [
  {
   "cell_type": "markdown",
   "id": "243d3827",
   "metadata": {},
   "source": [
    "# ATOC5860 - Homework #1"
   ]
  },
  {
   "cell_type": "code",
   "execution_count": 14,
   "id": "ac35272a",
   "metadata": {},
   "outputs": [],
   "source": [
    "# Import the packages and general set-up\n",
    "%matplotlib inline  \n",
    "# this enables plotting within notebook\n",
    "import matplotlib   # library for plotting\n",
    "import matplotlib.pyplot as plt # basic plotting; later you will type plt.$COMMAND\n",
    "import numpy as np # basic math library  you will type np.$STUFF  e.g., np.cos(1)\n",
    "import scipy.stats as stats # imports stats functions https://docs.scipy.org/doc/scipy/reference/stats.html  \n",
    "import xarray  ##netcdf manipulation - slick array manipulation"
   ]
  },
  {
   "cell_type": "markdown",
   "id": "0c772525",
   "metadata": {},
   "source": [
    "## 1) Basic statistics (60 points).  "
   ]
  },
  {
   "cell_type": "markdown",
   "id": "879ae3aa",
   "metadata": {},
   "source": [
    "### a) Bayes Theorem.  Assume background rates of COVID are 90% negative, 10% positive AND COVID tests are accurate 80% of the time, but fail 20% of the time. Your friend goes and gets a COVID test.  Your friend test negative. What is the probability that your friend is actually negative? Explain to your friend how you are using Bayes theorem to inform your thinking.  Hint: Review Lecture #1 and the 1.2.2.2 of the Barnes Notes. (10 points) "
   ]
  },
  {
   "cell_type": "code",
   "execution_count": 2,
   "id": "a835767b",
   "metadata": {},
   "outputs": [],
   "source": [
    "#Define variable set and what is known\n",
    "PC_neg = 0.9                   #Percent of population negative\n",
    "PC_pos = 1 - PC_neg            #Percent of population positive\n",
    "PC_acc = 0.8                   #Percent of tests that are accurate\n",
    "PC_fal = 1- PC_acc             #Percent of tests that fail"
   ]
  },
  {
   "cell_type": "code",
   "execution_count": 10,
   "id": "c73f9314",
   "metadata": {},
   "outputs": [
    {
     "name": "stdout",
     "output_type": "stream",
     "text": [
      "0.9729729729729729\n"
     ]
    }
   ],
   "source": [
    "#Given the above probabilities, what is the probability that individual tested is actually negative?\n",
    "Test_Neg = PC_acc*PC_neg / (PC_acc*PC_neg + PC_pos*PC_fal)\n",
    "print(Test_Neg)"
   ]
  },
  {
   "cell_type": "markdown",
   "id": "23f5ebdb",
   "metadata": {},
   "source": [
    "### b) Explain how to test whether a sample mean is significantly different than zero at the 95% confidence level and the 99% confidence level. State each of the 5 steps in hypothesis testing that you are using. For step 4, calculate the specific critical value assuming a two-tailed test. Contrast your approach for a sample with 15 independent observations (N=15) and a sample 1000 independent observations (N=1000). (15 points) "
   ]
  },
  {
   "cell_type": "code",
   "execution_count": null,
   "id": "5d5595f2",
   "metadata": {},
   "outputs": [],
   "source": [
    "# 5 Steps of hypothesis testing:"
   ]
  },
  {
   "cell_type": "code",
   "execution_count": 11,
   "id": "cb8f88a6",
   "metadata": {},
   "outputs": [],
   "source": [
    "# 1) State the significance level\n",
    "a95 = .95 #Significance level for 95% confidence\n",
    "a90 = .9  #Significance level for 90% confidence"
   ]
  },
  {
   "cell_type": "code",
   "execution_count": 12,
   "id": "c10e2a6b",
   "metadata": {},
   "outputs": [],
   "source": [
    "# 2) State the null hypothesis and the alternative\n",
    "# -null hypothesis: mean(s1) = mean(s2) where s1 and s2 are two samples\n",
    "# -alternative hypotheses: mean(s1) ~= means(s2)"
   ]
  },
  {
   "cell_type": "code",
   "execution_count": 13,
   "id": "ced6ed82",
   "metadata": {},
   "outputs": [],
   "source": [
    "# 3) State the statistic to be used\n",
    "# -For the N = 15 case the t-statistic will be used since N is small (N<30)\n",
    "# -For the N = 1000 case the z-statistic will be used since N is large (N<30)\n",
    "# The t-statistic convergest to the z-statistic since for large N, N is roughly equal to N-1"
   ]
  },
  {
   "cell_type": "code",
   "execution_count": 18,
   "id": "151450bd",
   "metadata": {},
   "outputs": [
    {
     "name": "stdout",
     "output_type": "stream",
     "text": [
      "tcrit for N = 15 with 95% Confidence: 2.14\n",
      "tcrit for N = 15 with 99% Confidence: 2.98\n",
      "tcrit for N = 1000 with 95% Confidence: 1.96\n",
      "tcrit for N = 1000 with 99% Confidence: 2.58\n"
     ]
    }
   ],
   "source": [
    "# 4) State the critical region\n",
    "N15 = 15\n",
    "#Calculate critical t value with stats.t.ppf(q,df). Since 2 tailed is used, 2*(1-q) = (1-a) where a is significance\n",
    "tcrit=stats.t.ppf(0.975,N15-1) \n",
    "print(f'tcrit for N = 15 with 95% Confidence: {np.round(tcrit,2)}')\n",
    "tcrit=stats.t.ppf(0.995,N15-1)\n",
    "print(f'tcrit for N = 15 with 99% Confidence: {np.round(tcrit,2)}')\n",
    "\n",
    "N1000 = 1000\n",
    "tcrit=stats.t.ppf(0.975,N1000-1) \n",
    "print(f'tcrit for N = 1000 with 95% Confidence: {np.round(tcrit,2)}')\n",
    "tcrit=stats.t.ppf(0.995,N1000-1)\n",
    "print(f'tcrit for N = 1000 with 99% Confidence: {np.round(tcrit,2)}')"
   ]
  },
  {
   "cell_type": "code",
   "execution_count": 19,
   "id": "0882cbda",
   "metadata": {},
   "outputs": [],
   "source": [
    "# 5) Evaluate the statistic and state the conclusion\n",
    "# -compare a calculated t value for the data and compare it to the chosen t critical value"
   ]
  },
  {
   "cell_type": "markdown",
   "id": "37f42e95",
   "metadata": {},
   "source": [
    "### c) Design your own homework problem to compare two sample means using data of your own choice.  In other words, test whether two sample means are statistically different. Follow all five steps of hypothesis testing.  Hint: See page 26 of Barnes notes for an example. (15 points) "
   ]
  },
  {
   "cell_type": "markdown",
   "id": "e027ddb7",
   "metadata": {},
   "source": [
    "Daytime (10am-4pm) methane measurements in New York City taken by Dual Comb Spectroscopy measurements over ~1 path lengths at rooftop level will be compared to measurements from a point detector on the rooftop of a central building."
   ]
  },
  {
   "cell_type": "code",
   "execution_count": null,
   "id": "6e30ac43",
   "metadata": {},
   "outputs": [],
   "source": []
  }
 ],
 "metadata": {
  "kernelspec": {
   "display_name": "Python 3 (ipykernel)",
   "language": "python",
   "name": "python3"
  },
  "language_info": {
   "codemirror_mode": {
    "name": "ipython",
    "version": 3
   },
   "file_extension": ".py",
   "mimetype": "text/x-python",
   "name": "python",
   "nbconvert_exporter": "python",
   "pygments_lexer": "ipython3",
   "version": "3.10.13"
  }
 },
 "nbformat": 4,
 "nbformat_minor": 5
}
